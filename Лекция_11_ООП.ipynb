{
  "cells": [
    {
      "cell_type": "markdown",
      "metadata": {
        "id": "view-in-github",
        "colab_type": "text"
      },
      "source": [
        "<a href=\"https://colab.research.google.com/github/Zabaluna/PythonMGU/blob/main/%D0%9B%D0%B5%D0%BA%D1%86%D0%B8%D1%8F_11_%D0%9E%D0%9E%D0%9F.ipynb\" target=\"_parent\"><img src=\"https://colab.research.google.com/assets/colab-badge.svg\" alt=\"Open In Colab\"/></a>"
      ]
    },
    {
      "cell_type": "markdown",
      "id": "0c59d343",
      "metadata": {
        "id": "0c59d343"
      },
      "source": [
        "# Лекция 11. Объектно-ориентированное программирование"
      ]
    },
    {
      "cell_type": "markdown",
      "id": "b51bb42c",
      "metadata": {
        "id": "b51bb42c"
      },
      "source": [
        "В объектно-ориентированном подходе программа рассматривается как совокупность взаимодействующих *объектов*.\n",
        "\n",
        "**Объект** обладает *состоянием* и *поведением*.\n",
        "\n",
        "Состояние объекта — это его **атрибуты**, то есть данные, соответствующие объекту. Для собаки как объекта, например, это рост, вес и громкость лая.\n",
        "\n",
        "Поведение определяется набором операций, которые можно производить с объектом. Например, в случае с собакой: покормить, погладить, погулять. Операции, которые можно выполнять над объектом, называют **методами**.\n",
        "\n",
        "Часто приходится работать с объектами одной природы. Например, если у нас несколько собак, то у них у всех одинаковые наборы атрибутов (хотя значения могут различаться) и одинаковые методы. Для определения такой \"общей природы\" вводятся классы. \n",
        "\n",
        "**Класс** — это тип объектов. Именно описание класса определяет общее поведение всех объектов этого класса. Объекты класса также называют **экземплярами класса**."
      ]
    },
    {
      "cell_type": "markdown",
      "id": "e3e21c9e",
      "metadata": {
        "id": "e3e21c9e"
      },
      "source": [
        "Итак, чтобы создать объект, нужно вначале описать класс данных объектов.\n",
        "\n",
        "Для создания класса в языке Python используется оператор `class`:"
      ]
    },
    {
      "cell_type": "code",
      "execution_count": null,
      "id": "28633c75",
      "metadata": {
        "id": "28633c75",
        "outputId": "10d00ce6-484c-48a8-9b3e-8a43b5f352bd"
      },
      "outputs": [
        {
          "name": "stdout",
          "output_type": "stream",
          "text": [
            "Bow-wow!\n",
            "Bow-wow!\n"
          ]
        }
      ],
      "source": [
        "class Dog:\n",
        "    def bark(self): # имя self для первого аргумента метода это общепринятое правило\n",
        "        print('Bow-wow!')\n",
        "\n",
        "my_dog = Dog()\n",
        "my_dog.bark()      # вызовется функция Dog.say_wow с параметром self = my_dog\n",
        "another_dog = Dog()\n",
        "another_dog.bark()"
      ]
    },
    {
      "cell_type": "markdown",
      "id": "e791dcec",
      "metadata": {
        "id": "e791dcec"
      },
      "source": [
        "Мы описали класс `Dog` с одним методом. При первый аргумент методов класса — это *ссылка на экземепляр*, для которого этот метод вызывается. Далее мы создали пару собак и позвали для каждой метод `bark`. Для создания объектов используется имя класса со скобками.\n",
        "\n",
        "Методы вызываются через точку после имени объекта. Обратите внимание, что первый аргумент метода (`self`) при вызове указывать не нужно, т.к. им становится сам объект — тот, для которого вызывается метод (его имя находится перед точкой)."
      ]
    },
    {
      "cell_type": "markdown",
      "id": "fcc3af7f",
      "metadata": {
        "id": "fcc3af7f"
      },
      "source": [
        "### Атрибуты и доступ к ним\n",
        "Доступ к атрибутам тоже происходит через точку. Это те самые свойства объекта — рост, вес и т.п. Атрибуты могут иметь любой тип данных. Как и с обычными переменными в Python, объявлять атрибуты специальным образом не нужно, они появляются автоматически при первом присваивании:"
      ]
    },
    {
      "cell_type": "code",
      "execution_count": null,
      "id": "6f6b6283",
      "metadata": {
        "id": "6f6b6283",
        "outputId": "9ed528d8-4f09-4e58-fc72-3736fde730d6"
      },
      "outputs": [
        {
          "name": "stdout",
          "output_type": "stream",
          "text": [
            "bow-wow!\n",
            "BOW-WOW!!!\n"
          ]
        }
      ],
      "source": [
        "class Dog:\n",
        "    def bark(self):\n",
        "        if self.angry:\n",
        "            print('BOW-WOW!!!')\n",
        "        else:\n",
        "            print('bow-wow!')\n",
        "\n",
        "    def kick(self):\n",
        "        self.angry = True\n",
        "\n",
        "    def feed(self, food_count):\n",
        "        if food_count > 10:\n",
        "            self.angry = False\n",
        "\n",
        "my_dog = Dog()\n",
        "my_dog.feed(20)\n",
        "my_dog.bark()      # напечатает bow-wow!\n",
        "my_dog.kick()\n",
        "my_dog.bark()      # напечатает BOW-WOW!!!"
      ]
    },
    {
      "cell_type": "markdown",
      "id": "8c67c665",
      "metadata": {
        "id": "8c67c665"
      },
      "source": [
        "В предыдущем примере для изменения атрибута `angry` мы сделали два метода:\n",
        "1. kick(self) — \"пнуть\" собаку, чтобы она стала злой;\n",
        "2. feed(self, food_count) — \"покормить\" собаку, чтобы она стала доброй.\n",
        "\n",
        "Однако, у нас есть проблема — если собака попытается гавкнуть до того как ее толкнули или покормили, случится ошибка `\"AttributeError: 'Dog' object has no attribute 'angry'\"`:"
      ]
    },
    {
      "cell_type": "code",
      "execution_count": null,
      "id": "0d799d5e",
      "metadata": {
        "id": "0d799d5e",
        "outputId": "d64e5409-68e7-4bbf-a7eb-806306f468e0"
      },
      "outputs": [
        {
          "ename": "AttributeError",
          "evalue": "'Dog' object has no attribute 'angry'",
          "output_type": "error",
          "traceback": [
            "\u001b[1;31m---------------------------------------------------------------------------\u001b[0m",
            "\u001b[1;31mAttributeError\u001b[0m                            Traceback (most recent call last)",
            "Cell \u001b[1;32mIn[3], line 2\u001b[0m\n\u001b[0;32m      1\u001b[0m a_dog \u001b[38;5;241m=\u001b[39m Dog()\n\u001b[1;32m----> 2\u001b[0m \u001b[43ma_dog\u001b[49m\u001b[38;5;241;43m.\u001b[39;49m\u001b[43mbark\u001b[49m\u001b[43m(\u001b[49m\u001b[43m)\u001b[49m\n",
            "Cell \u001b[1;32mIn[2], line 3\u001b[0m, in \u001b[0;36mDog.bark\u001b[1;34m(self)\u001b[0m\n\u001b[0;32m      2\u001b[0m \u001b[38;5;28;01mdef\u001b[39;00m \u001b[38;5;21mbark\u001b[39m(\u001b[38;5;28mself\u001b[39m):\n\u001b[1;32m----> 3\u001b[0m     \u001b[38;5;28;01mif\u001b[39;00m \u001b[38;5;28;43mself\u001b[39;49m\u001b[38;5;241;43m.\u001b[39;49m\u001b[43mangry\u001b[49m:\n\u001b[0;32m      4\u001b[0m         \u001b[38;5;28mprint\u001b[39m(\u001b[38;5;124m'\u001b[39m\u001b[38;5;124mBOW-WOW!!!\u001b[39m\u001b[38;5;124m'\u001b[39m)\n\u001b[0;32m      5\u001b[0m     \u001b[38;5;28;01melse\u001b[39;00m:\n",
            "\u001b[1;31mAttributeError\u001b[0m: 'Dog' object has no attribute 'angry'"
          ]
        }
      ],
      "source": [
        "a_dog = Dog()\n",
        "a_dog.bark()"
      ]
    },
    {
      "cell_type": "markdown",
      "id": "141fd593",
      "metadata": {
        "id": "141fd593"
      },
      "source": [
        "Чтобы у всех экземпляров одного класса был идентичный набор атрибутов, их создают в специальном методе с особым именем `__init__`:"
      ]
    },
    {
      "cell_type": "code",
      "execution_count": null,
      "id": "9427771c",
      "metadata": {
        "id": "9427771c",
        "outputId": "5454be81-1d01-4d9d-f3ae-f0f19d71bc9f"
      },
      "outputs": [
        {
          "name": "stdout",
          "output_type": "stream",
          "text": [
            "bow-wow\n"
          ]
        }
      ],
      "source": [
        "class Dog:\n",
        "    def __init__(self):\n",
        "        self.angry = False\n",
        "\n",
        "    def bark(self):\n",
        "        if self.angry:\n",
        "            print('BOW-WOW')\n",
        "        else:\n",
        "            print('bow-wow')\n",
        "\n",
        "    def kick(self):\n",
        "        self.angry = True\n",
        "\n",
        "    def feed(self, food_count):\n",
        "        if food_count > 10:\n",
        "            self.angry = False\n",
        "\n",
        "my_dog = Dog()\n",
        "my_dog.bark()      # ошибки нет, напечатает bow-wow"
      ]
    },
    {
      "cell_type": "markdown",
      "id": "c0106421",
      "metadata": {
        "id": "c0106421"
      },
      "source": [
        "Метод `__init__` называется **конструктором** и вызывается автоматически при создании объекта, то есть при выполнении конструкции вида `ИмяКласса()`, в нашем случае — `Dog()`.\n",
        "\n",
        "Аргументом `self` для конструктора становится новый создающийся объект. Также, как и обычные методы, конструктор может иметь дополнительные аргументы. Если они есть в заголовке конструктора, то их *обязательно* требуется указывать при создании объекта.\n",
        "\n",
        "Пусть \"злость\" собаки будет обязательным параметром конструктора. Теперь злобность собаки задаётся при конструировании объекта. Заодно уберём метод `kick`, поскольку бить собак — нехорошо."
      ]
    },
    {
      "cell_type": "code",
      "execution_count": null,
      "id": "750d2f51",
      "metadata": {
        "id": "750d2f51",
        "scrolled": true,
        "outputId": "7d48548e-e74b-4a34-8a07-0ebceef1d361"
      },
      "outputs": [
        {
          "name": "stdout",
          "output_type": "stream",
          "text": [
            "BOW-WOW\n",
            "bow-wow\n"
          ]
        },
        {
          "ename": "TypeError",
          "evalue": "Dog.__init__() missing 1 required positional argument: 'angry'",
          "output_type": "error",
          "traceback": [
            "\u001b[1;31m---------------------------------------------------------------------------\u001b[0m",
            "\u001b[1;31mTypeError\u001b[0m                                 Traceback (most recent call last)",
            "Cell \u001b[1;32mIn[5], line 18\u001b[0m\n\u001b[0;32m     15\u001b[0m dog2 \u001b[38;5;241m=\u001b[39m Dog(\u001b[38;5;28;01mFalse\u001b[39;00m)\n\u001b[0;32m     16\u001b[0m dog2\u001b[38;5;241m.\u001b[39mbark()  \u001b[38;5;66;03m# ошибки нет, напечатает bow-wow\u001b[39;00m\n\u001b[1;32m---> 18\u001b[0m dog3 \u001b[38;5;241m=\u001b[39m \u001b[43mDog\u001b[49m\u001b[43m(\u001b[49m\u001b[43m)\u001b[49m  \u001b[38;5;66;03m# ошибка! Нельзя создать собаку без передачи конструктору параметра angry\u001b[39;00m\n",
            "\u001b[1;31mTypeError\u001b[0m: Dog.__init__() missing 1 required positional argument: 'angry'"
          ]
        }
      ],
      "source": [
        "class Dog:\n",
        "    def __init__(self, angry):\n",
        "        self.angry = angry\n",
        "\n",
        "    def bark(self):\n",
        "        if self.angry:\n",
        "            print('BOW-WOW')\n",
        "        else:\n",
        "            print('bow-wow')\n",
        "\n",
        "\n",
        "dog1 = Dog(True)\n",
        "dog1.bark()  # ошибки нет, напечатает BOW-WOW\n",
        "\n",
        "dog2 = Dog(False)\n",
        "dog2.bark()  # ошибки нет, напечатает bow-wow\n",
        "\n",
        "dog3 = Dog()  # ошибка! Нельзя создать собаку без передачи конструктору параметра angry"
      ]
    },
    {
      "cell_type": "markdown",
      "id": "9e17f477",
      "metadata": {
        "id": "9e17f477"
      },
      "source": [
        " В конструкторе можно давать параметру значение по умолчанию:"
      ]
    },
    {
      "cell_type": "code",
      "execution_count": null,
      "id": "5ff351a7",
      "metadata": {
        "id": "5ff351a7",
        "outputId": "ad5cee44-4d43-4b5f-d2ce-a498a7312764"
      },
      "outputs": [
        {
          "name": "stdout",
          "output_type": "stream",
          "text": [
            "bow-wow\n"
          ]
        }
      ],
      "source": [
        "class Dog:\n",
        "    def __init__(self, angry=False):\n",
        "        self.angry = angry\n",
        "\n",
        "    def bark(self):\n",
        "        if self.angry:\n",
        "            print('BOW-WOW')\n",
        "        else:\n",
        "            print('bow-wow')\n",
        "\n",
        "dog3 = Dog()\n",
        "dog3.bark()"
      ]
    },
    {
      "cell_type": "markdown",
      "id": "c1b8be08",
      "metadata": {
        "id": "c1b8be08"
      },
      "source": [
        "## Инкапсуляция\n",
        "\n",
        "Злая собака или нет — решать только ей. Извне объекта его внутренние атрибуты ни узнавать напрямую, ни менять не следует.\n",
        "\n",
        "Чтобы пометить атрибут как **приватный**, используется подчёркивание в начале его имени:"
      ]
    },
    {
      "cell_type": "code",
      "execution_count": null,
      "id": "27da4cf0",
      "metadata": {
        "id": "27da4cf0",
        "outputId": "33ccc8c9-3ab7-4579-8756-7832da01fb6c"
      },
      "outputs": [
        {
          "name": "stdout",
          "output_type": "stream",
          "text": [
            "BOW-WOW\n",
            "True\n",
            "bow-wow\n"
          ]
        }
      ],
      "source": [
        "class Dog:\n",
        "    def __init__(self, angry=False):\n",
        "        self._angry = angry\n",
        "\n",
        "    def bark(self):\n",
        "        if self._angry:\n",
        "            print('BOW-WOW')\n",
        "        else:\n",
        "            print('bow-wow')\n",
        "\n",
        "dog = Dog(True)\n",
        "dog.bark()  # напечатает BOW-WOW\n",
        "print(dog._angry)  # ошибки нет, хотя мы и доступаемся извне к внутреннему атрибуту\n",
        "dog._angry = False  # такой внутренний аргумент можно менять извне объекта\n",
        "dog.bark()  # напечатает BOW-WOW"
      ]
    },
    {
      "cell_type": "markdown",
      "id": "0af594ca",
      "metadata": {
        "id": "0af594ca"
      },
      "source": [
        "Одинарное подчёркивание или двойное — большая разница. Если атрибут с одинарным подчёркиванием ещё можно менять извне, то имя параметра с двойным подчёркиванием подменяется:"
      ]
    },
    {
      "cell_type": "code",
      "execution_count": null,
      "id": "3ad8873b",
      "metadata": {
        "id": "3ad8873b",
        "outputId": "2102267e-18b0-4ecb-ea2b-0d492907d428"
      },
      "outputs": [
        {
          "name": "stdout",
          "output_type": "stream",
          "text": [
            "BOW-WOW\n"
          ]
        },
        {
          "ename": "AttributeError",
          "evalue": "'Dog' object has no attribute '__angry'",
          "output_type": "error",
          "traceback": [
            "\u001b[1;31m---------------------------------------------------------------------------\u001b[0m",
            "\u001b[1;31mAttributeError\u001b[0m                            Traceback (most recent call last)",
            "Cell \u001b[1;32mIn[8], line 13\u001b[0m\n\u001b[0;32m     11\u001b[0m dog \u001b[38;5;241m=\u001b[39m Dog(\u001b[38;5;28;01mTrue\u001b[39;00m)\n\u001b[0;32m     12\u001b[0m dog\u001b[38;5;241m.\u001b[39mbark()  \u001b[38;5;66;03m# напечатает BOW-WOW\u001b[39;00m\n\u001b[1;32m---> 13\u001b[0m \u001b[38;5;28mprint\u001b[39m(\u001b[43mdog\u001b[49m\u001b[38;5;241;43m.\u001b[39;49m\u001b[43m__angry\u001b[49m)  \u001b[38;5;66;03m# Нет доступа к скрытому атрибуту! Его имя подменено!\u001b[39;00m\n",
            "\u001b[1;31mAttributeError\u001b[0m: 'Dog' object has no attribute '__angry'"
          ]
        }
      ],
      "source": [
        "class Dog:\n",
        "    def __init__(self, angry=False):\n",
        "        self.__angry = angry\n",
        "\n",
        "    def bark(self):\n",
        "        if self.__angry:\n",
        "            print('BOW-WOW')\n",
        "        else:\n",
        "            print('bow-wow')\n",
        "\n",
        "dog = Dog(True)\n",
        "dog.bark()  # напечатает BOW-WOW\n",
        "print(dog.__angry)  # Нет доступа к скрытому атрибуту! Его имя подменено!"
      ]
    },
    {
      "cell_type": "code",
      "execution_count": null,
      "id": "72b1889f",
      "metadata": {
        "id": "72b1889f",
        "outputId": "643b10d5-b728-4f08-f4b2-2c649348dfee"
      },
      "outputs": [
        {
          "data": {
            "text/plain": [
              "['_Dog__angry',\n",
              " '__class__',\n",
              " '__delattr__',\n",
              " '__dict__',\n",
              " '__dir__',\n",
              " '__doc__',\n",
              " '__eq__',\n",
              " '__format__',\n",
              " '__ge__',\n",
              " '__getattribute__',\n",
              " '__getstate__',\n",
              " '__gt__',\n",
              " '__hash__',\n",
              " '__init__',\n",
              " '__init_subclass__',\n",
              " '__le__',\n",
              " '__lt__',\n",
              " '__module__',\n",
              " '__ne__',\n",
              " '__new__',\n",
              " '__reduce__',\n",
              " '__reduce_ex__',\n",
              " '__repr__',\n",
              " '__setattr__',\n",
              " '__sizeof__',\n",
              " '__str__',\n",
              " '__subclasshook__',\n",
              " '__weakref__',\n",
              " 'bark']"
            ]
          },
          "execution_count": 9,
          "metadata": {},
          "output_type": "execute_result"
        }
      ],
      "source": [
        "dir(dog)  # Обратите внимание на имя первого параметра: _Dog__angry"
      ]
    },
    {
      "cell_type": "markdown",
      "id": "66c55a6d",
      "metadata": {
        "id": "66c55a6d"
      },
      "source": [
        "В пределе **принцип инкапсуляции требует, чтобы никакие атрибуты нельзя было получить или изменить извне объекта**. Если же нужно таки дать эту возможность, то специально делают два метода — setter и getter:"
      ]
    },
    {
      "cell_type": "code",
      "execution_count": null,
      "id": "0a84b5af",
      "metadata": {
        "id": "0a84b5af",
        "outputId": "beea1f26-01b5-4def-f68f-5daec925e27b"
      },
      "outputs": [
        {
          "data": {
            "text/plain": [
              "True"
            ]
          },
          "execution_count": 10,
          "metadata": {},
          "output_type": "execute_result"
        }
      ],
      "source": [
        "class Dog:\n",
        "    def __init__(self, angry=False):\n",
        "        self.__angry = angry\n",
        "\n",
        "    def set_angry(self, angry):\n",
        "        self.__angry = angry\n",
        "    \n",
        "    def get_angry(self):\n",
        "        return self.__angry\n",
        "\n",
        "dog = Dog(True)\n",
        "dog.get_angry()"
      ]
    },
    {
      "cell_type": "code",
      "execution_count": null,
      "id": "75af2ad8",
      "metadata": {
        "id": "75af2ad8",
        "outputId": "cf77624d-fe37-47d3-87ce-84df339ba0dc"
      },
      "outputs": [
        {
          "data": {
            "text/plain": [
              "False"
            ]
          },
          "execution_count": 11,
          "metadata": {},
          "output_type": "execute_result"
        }
      ],
      "source": [
        "dog.set_angry(False)\n",
        "dog.get_angry()"
      ]
    },
    {
      "cell_type": "markdown",
      "id": "0c748df4",
      "metadata": {
        "id": "0c748df4"
      },
      "source": [
        "Впрочем, скрытый атрибут с двумя подобными методами по факту не отличается от публичного атрибута. Поэтому setter и getter для атрибута — признак неявного нарушения принципа инкапсуляции. Лучше уж тогда убрать подчёркивания из имени, и явно сделать атрибут публичным."
      ]
    },
    {
      "cell_type": "markdown",
      "id": "fab5e627",
      "metadata": {
        "id": "fab5e627"
      },
      "source": [
        "## Декораторы\n",
        "Далее мы будем пользоваться декораторами, так что пару слов про них.\n",
        "\n",
        "Во-первых, заметим, что в Python можно переопределять функцию, забывая её старую реализацию:"
      ]
    },
    {
      "cell_type": "code",
      "execution_count": null,
      "id": "9c2566e7",
      "metadata": {
        "id": "9c2566e7",
        "outputId": "5c847d63-d493-495a-be85-6d291c830219"
      },
      "outputs": [
        {
          "name": "stdout",
          "output_type": "stream",
          "text": [
            "B\n"
          ]
        }
      ],
      "source": [
        "def foo():\n",
        "    print('A')\n",
        "\n",
        "def foo():\n",
        "    print('B')\n",
        "    \n",
        "foo()"
      ]
    },
    {
      "cell_type": "markdown",
      "id": "a82e5570",
      "metadata": {
        "id": "a82e5570"
      },
      "source": [
        "Определим произвольную функцию:"
      ]
    },
    {
      "cell_type": "code",
      "execution_count": null,
      "id": "aa19d266",
      "metadata": {
        "id": "aa19d266",
        "outputId": "397e2807-b762-4930-a7b5-2ec4d420551b"
      },
      "outputs": [
        {
          "name": "stdout",
          "output_type": "stream",
          "text": [
            "bleat...\n"
          ]
        }
      ],
      "source": [
        "def innocent_kid():\n",
        "    print(\"bleat...\")\n",
        "\n",
        "innocent_kid()"
      ]
    },
    {
      "cell_type": "markdown",
      "id": "3ccfe8ce",
      "metadata": {
        "id": "3ccfe8ce"
      },
      "source": [
        "Теперь, допустим, мы \"скармливаем\" только что изготовленную функцию какой-то другой функции, чтобы она *подменила её на другую*:"
      ]
    },
    {
      "cell_type": "code",
      "execution_count": null,
      "id": "f577532a",
      "metadata": {
        "id": "f577532a",
        "outputId": "a4b838db-87b1-467a-cee0-6b9b31bd1556"
      },
      "outputs": [
        {
          "name": "stdout",
          "output_type": "stream",
          "text": [
            "BOO!!!\n"
          ]
        }
      ],
      "source": [
        "def devour_and_throw_up_a_modified_function(function):\n",
        "    def the_monster():\n",
        "        print(\"BOO!!!\")\n",
        "    return the_monster\n",
        "\n",
        "# вот, что делает типичный декоратор:\n",
        "innocent_kid = devour_and_throw_up_a_modified_function(innocent_kid)\n",
        "innocent_kid()"
      ]
    },
    {
      "cell_type": "markdown",
      "id": "ec56c957",
      "metadata": {
        "id": "ec56c957"
      },
      "source": [
        "Декорирование функции лучше делать при помощи символа `@`:"
      ]
    },
    {
      "cell_type": "code",
      "execution_count": null,
      "id": "2313f886",
      "metadata": {
        "id": "2313f886",
        "outputId": "944d22ad-7e1c-4632-e1f8-77a79bbf45de"
      },
      "outputs": [
        {
          "name": "stdout",
          "output_type": "stream",
          "text": [
            "BOO!!!\n"
          ]
        }
      ],
      "source": [
        "@devour_and_throw_up_a_modified_function\n",
        "def calf():\n",
        "    print(\"moo...\")\n",
        "\n",
        "calf()"
      ]
    },
    {
      "cell_type": "markdown",
      "id": "8335bfcb",
      "metadata": {
        "id": "8335bfcb"
      },
      "source": [
        "Теперь давайте не так жестоко: пусть подменная функция запомнит старую реализацию и каждый раз будет её вызывать, \"декорируя\" её поведение:"
      ]
    },
    {
      "cell_type": "code",
      "execution_count": null,
      "id": "0c133f17",
      "metadata": {
        "id": "0c133f17",
        "outputId": "b5c53e4d-fb9c-408e-c649-e95a9a60fed5"
      },
      "outputs": [
        {
          "name": "stdout",
          "output_type": "stream",
          "text": [
            "# Function my_greeter() started.\n",
            "Hello, world!\n",
            "# Function my_greeter() ended.\n"
          ]
        }
      ],
      "source": [
        "def decorate_a_function(function):\n",
        "    def decorated_function(*args, **kwargs):\n",
        "        print(f\"# Function {function.__name__}() started.\")\n",
        "        result = function(*args, **kwargs)\n",
        "        print(f\"# Function {function.__name__}() ended.\")\n",
        "        return result\n",
        "    return decorated_function\n",
        "\n",
        "\n",
        "@decorate_a_function\n",
        "def my_greeter():\n",
        "    print(\"Hello, world!\")\n",
        "\n",
        "my_greeter()"
      ]
    },
    {
      "cell_type": "markdown",
      "id": "41bb0d2f",
      "metadata": {
        "id": "41bb0d2f"
      },
      "source": [
        "Запомните, что **декоратор меняет поведение функции**, добавляя к ней свои \"фишки\". Нам понадобится только пользоваться готовыми декораторами, а не писать их самостоятельно."
      ]
    },
    {
      "cell_type": "markdown",
      "id": "5adc0a25",
      "metadata": {
        "id": "5adc0a25"
      },
      "source": [
        "## Декоратор `@property`. Свойства объекта\n",
        "\n",
        "Атрибуты хороши тем, что доступ к ним происходит естественно. Если мы хотим контролировать внешний доступ к атрибуту, то можно использовать упомянутую выше методику — определение setter и getter, но тогда ухудшается удобство использования атрибутов объекта — их не так удобно использовать в выражениях.\n",
        "\n",
        "Есть способ организовать использование setter и getter неявно:"
      ]
    },
    {
      "cell_type": "code",
      "execution_count": null,
      "id": "bcd15e63",
      "metadata": {
        "id": "bcd15e63"
      },
      "outputs": [],
      "source": [
        "class LoggingNumber:\n",
        "    \"\"\"Инкапсуляция числа\"\"\"\n",
        "    \n",
        "    def __init__(self, value=0):\n",
        "        self._value = value\n",
        "        \n",
        "    @property\n",
        "    def value(self):  # вызывается при чтении свойства\n",
        "        print(\"Свойство прочитали!\")\n",
        "        return self._value\n",
        "    \n",
        "    @value.setter\n",
        "    def value(self, value):  # вызывается при записи свойства\n",
        "        print(\"Свойство записали!\")\n",
        "        self._value = value\n",
        "    \n",
        "    @value.deleter\n",
        "    def value(self):\n",
        "        print(\"Свойство пытаются удалить!\")\n",
        "        \n",
        "a = LoggingNumber(2)"
      ]
    },
    {
      "cell_type": "code",
      "execution_count": null,
      "id": "4fb1fab8",
      "metadata": {
        "id": "4fb1fab8",
        "outputId": "b496db19-bc36-43d5-c864-be182e722d57"
      },
      "outputs": [
        {
          "name": "stdout",
          "output_type": "stream",
          "text": [
            "Свойство прочитали!\n"
          ]
        },
        {
          "data": {
            "text/plain": [
              "2"
            ]
          },
          "execution_count": 18,
          "metadata": {},
          "output_type": "execute_result"
        }
      ],
      "source": [
        "a.value"
      ]
    },
    {
      "cell_type": "code",
      "execution_count": null,
      "id": "4348b2b2",
      "metadata": {
        "id": "4348b2b2",
        "outputId": "a2900c02-16b3-4546-e56f-fd2d12ea4b46"
      },
      "outputs": [
        {
          "name": "stdout",
          "output_type": "stream",
          "text": [
            "Свойство записали!\n"
          ]
        }
      ],
      "source": [
        "a.value = 3"
      ]
    },
    {
      "cell_type": "code",
      "execution_count": null,
      "id": "943c3851",
      "metadata": {
        "id": "943c3851",
        "outputId": "46fc2184-3148-44a5-b08e-ad468297901e"
      },
      "outputs": [
        {
          "name": "stdout",
          "output_type": "stream",
          "text": [
            "Свойство пытаются удалить!\n"
          ]
        }
      ],
      "source": [
        "del a.value"
      ]
    },
    {
      "cell_type": "markdown",
      "id": "d8541a0b",
      "metadata": {
        "id": "d8541a0b"
      },
      "source": [
        "## Классовые атрибуты и методы\n",
        "\n",
        "Можно ли создать атрибут не в конструкторе, а прямо в классе? Да, но тогда это будет **классовый атрибут**. При его использовании есть особенность — можно случайно \"перекрыть\" его видимость обычным, **экземплярным атрибутом**:"
      ]
    },
    {
      "cell_type": "code",
      "execution_count": null,
      "id": "2f6270b6",
      "metadata": {
        "id": "2f6270b6",
        "outputId": "b760bad0-aa5e-49ce-91f7-f34fed56820b"
      },
      "outputs": [
        {
          "data": {
            "text/plain": [
              "1"
            ]
          },
          "execution_count": 21,
          "metadata": {},
          "output_type": "execute_result"
        }
      ],
      "source": [
        "class Class:\n",
        "    attribute = 1\n",
        "    \n",
        "Class.attribute"
      ]
    },
    {
      "cell_type": "code",
      "execution_count": null,
      "id": "d1301d7a",
      "metadata": {
        "id": "d1301d7a",
        "outputId": "1885605a-1d8c-466b-aabe-9f88f85433cb"
      },
      "outputs": [
        {
          "data": {
            "text/plain": [
              "1"
            ]
          },
          "execution_count": 22,
          "metadata": {},
          "output_type": "execute_result"
        }
      ],
      "source": [
        "obj = Class()\n",
        "obj.attribute  # Поскольку нет такого экземплярного атрибута, возвращается значение классового"
      ]
    },
    {
      "cell_type": "code",
      "execution_count": null,
      "id": "7126626a",
      "metadata": {
        "id": "7126626a",
        "outputId": "66fad05a-febf-4daa-a0dc-7118c7897881"
      },
      "outputs": [
        {
          "data": {
            "text/plain": [
              "True"
            ]
          },
          "execution_count": 23,
          "metadata": {},
          "output_type": "execute_result"
        }
      ],
      "source": [
        "obj.attribute is Class.attribute"
      ]
    },
    {
      "cell_type": "code",
      "execution_count": null,
      "id": "c50075b9",
      "metadata": {
        "id": "c50075b9",
        "outputId": "a31f5538-f050-4735-a279-55cb672b38e6"
      },
      "outputs": [
        {
          "data": {
            "text/plain": [
              "2"
            ]
          },
          "execution_count": 24,
          "metadata": {},
          "output_type": "execute_result"
        }
      ],
      "source": [
        "obj.attribute += 1  # ВНИМАНИЕ! Одно имя тут означает два имени из РАЗНЫХ пространств имён!\n",
        "obj.attribute  # Теперь это — экземплярный атрибут."
      ]
    },
    {
      "cell_type": "code",
      "execution_count": null,
      "id": "5aacee1b",
      "metadata": {
        "id": "5aacee1b",
        "outputId": "e22e60da-cc26-4883-dcf8-9080d5b0614f"
      },
      "outputs": [
        {
          "data": {
            "text/plain": [
              "False"
            ]
          },
          "execution_count": 25,
          "metadata": {},
          "output_type": "execute_result"
        }
      ],
      "source": [
        "obj.attribute is Class.attribute"
      ]
    },
    {
      "cell_type": "markdown",
      "id": "f849811f",
      "metadata": {
        "id": "f849811f"
      },
      "source": [
        "Итак, описание атрибута в классе возможно, но классовые атрибуты нельзя путать с атрибутами объекта (экземплярными).\n",
        "\n",
        "Такие атрибуты часто используются как *константы на уровне класса*.\n",
        "\n",
        "Теперь рассмотрим методы. Когда мы определяем метод в классе, имя функции появляется именно в пространстве имён класса:"
      ]
    },
    {
      "cell_type": "code",
      "execution_count": null,
      "id": "99e9e4dd",
      "metadata": {
        "id": "99e9e4dd",
        "outputId": "bdd52101-8ac9-4de7-eeba-950f776405b7"
      },
      "outputs": [
        {
          "data": {
            "text/plain": [
              "<function __main__.Class.method(self)>"
            ]
          },
          "execution_count": 26,
          "metadata": {},
          "output_type": "execute_result"
        }
      ],
      "source": [
        "class Class:\n",
        "    def method(self):\n",
        "        return 0\n",
        "\n",
        "Class.method"
      ]
    },
    {
      "cell_type": "markdown",
      "id": "7ed2a1c4",
      "metadata": {
        "id": "7ed2a1c4"
      },
      "source": [
        "Однако, вызвать метод для класса нельзя:"
      ]
    },
    {
      "cell_type": "code",
      "execution_count": null,
      "id": "eb64d68c",
      "metadata": {
        "id": "eb64d68c",
        "outputId": "c91947f5-369e-44e6-fa4f-ffa50882bae9"
      },
      "outputs": [
        {
          "ename": "TypeError",
          "evalue": "Class.method() missing 1 required positional argument: 'self'",
          "output_type": "error",
          "traceback": [
            "\u001b[1;31m---------------------------------------------------------------------------\u001b[0m",
            "\u001b[1;31mTypeError\u001b[0m                                 Traceback (most recent call last)",
            "Cell \u001b[1;32mIn[27], line 1\u001b[0m\n\u001b[1;32m----> 1\u001b[0m \u001b[43mClass\u001b[49m\u001b[38;5;241;43m.\u001b[39;49m\u001b[43mmethod\u001b[49m\u001b[43m(\u001b[49m\u001b[43m)\u001b[49m\n",
            "\u001b[1;31mTypeError\u001b[0m: Class.method() missing 1 required positional argument: 'self'"
          ]
        }
      ],
      "source": [
        "Class.method()"
      ]
    },
    {
      "cell_type": "markdown",
      "id": "1ee676b3",
      "metadata": {
        "id": "1ee676b3"
      },
      "source": [
        "Как видите, методу не хватает ссылки на конкретный объект `self` — экземпляр данного класса.\n",
        "\n",
        "Но иногда хочется сделать вызов метода не для конкретного объекта, а для класса как такового.\n",
        "\n",
        "## Декораторы `@classmethod` и `@staticmethod`\n",
        "\n",
        "Чтобы создать такие **классовые методы**, необходим декоратор `@classmethod`.\n",
        "\n",
        "При вызове он получает ссылку не на `self`, а на `cls` — на класс как таковой.\n",
        "\n",
        "Также для этого можно использовать декоратор `@staticmethod`, но он не получит в качестве параметра даже ссылки на класс."
      ]
    },
    {
      "cell_type": "code",
      "execution_count": null,
      "id": "d045476f",
      "metadata": {
        "id": "d045476f",
        "outputId": "b92b9c1b-15ab-4e33-c307-0fda56e7eb08"
      },
      "outputs": [
        {
          "name": "stdout",
          "output_type": "stream",
          "text": [
            "<__main__.Class object at 0x00000293814BFD50> <class '__main__.Class'>\n",
            "<class '__main__.Class'> <class 'type'>\n"
          ]
        }
      ],
      "source": [
        "class Class:\n",
        "    def method_A(self):\n",
        "        print(self, type(self))\n",
        "\n",
        "    @classmethod\n",
        "    def method_B(cls):\n",
        "        print(cls, type(cls))\n",
        "        \n",
        "    @staticmethod\n",
        "    def method_C():\n",
        "        print(\"Have no parameters..\")\n",
        "        \n",
        "obj = Class()\n",
        "obj.method_A()\n",
        "obj.method_B()"
      ]
    },
    {
      "cell_type": "markdown",
      "id": "f1366f31",
      "metadata": {
        "id": "f1366f31"
      },
      "source": [
        "Функция `type()` для `self` возвращает тип объекта, то есть его класс. Это то же, что приходит в параметр `cls`.\n",
        "\n",
        "Преимущество классового метода в том, что его можно позвать абстрактно, без привязки к объекту:"
      ]
    },
    {
      "cell_type": "code",
      "execution_count": null,
      "id": "9c780ce0",
      "metadata": {
        "id": "9c780ce0",
        "outputId": "91930d0f-c102-4919-a0d8-3c0a78003453"
      },
      "outputs": [
        {
          "name": "stdout",
          "output_type": "stream",
          "text": [
            "<class '__main__.Class'> <class 'type'>\n",
            "Have no parameters..\n"
          ]
        }
      ],
      "source": [
        "Class.method_B()\n",
        "Class.method_C()  # отличается отсутствием ссылки на класс в теле метода"
      ]
    },
    {
      "cell_type": "markdown",
      "id": "0ee4c773",
      "metadata": {
        "id": "0ee4c773"
      },
      "source": [
        "*Замечание. В следующем разделе для сокращения отрывков кода мы оставим в классе `Dog` только конструктор.*\n",
        "\n",
        "## Специальные методы\n",
        "\n",
        "Методы, которые начинаются с двойного подчёркивания и заканчиваются им, выполняют специальные роли и называются *\\_\\_магическими\\_\\_*.\n",
        "\n",
        "\n",
        "### Метод `__repr__`\n",
        "\"Магия\" здесь только в том, как вызываются эти методы. Например, когда мы оставляем объект последним в ячейке кода Jupyter Notebook, для визуализации его содержимого автоматически вызывается метод `__repr__`:"
      ]
    },
    {
      "cell_type": "code",
      "execution_count": null,
      "id": "3a39bb64",
      "metadata": {
        "id": "3a39bb64",
        "outputId": "9c27a3ce-2960-4afb-8d25-b706b9b6aa9b"
      },
      "outputs": [
        {
          "data": {
            "text/plain": [
              "Student('Александр', 19)"
            ]
          },
          "execution_count": 30,
          "metadata": {},
          "output_type": "execute_result"
        }
      ],
      "source": [
        "class Student:\n",
        "    def __init__(self, name, age):\n",
        "        self._name = name\n",
        "        self._age = age\n",
        "\n",
        "    def __repr__(self):\n",
        "        return f\"Student({repr(self._name)}, {self._age})\"\n",
        "    \n",
        "alex = Student(\"Александр\", 19)\n",
        "alex   # Jupyter Notebook в строке Out выведет как раз результат `repr`:"
      ]
    },
    {
      "cell_type": "markdown",
      "id": "45247617",
      "metadata": {
        "id": "45247617"
      },
      "source": [
        "Предполагается, что метод `__repr__` должен возвращать текстовую строку с кодом на Python, которая создаст объект, равный данному, а значит вызов конструктора класса, которому передаются в качестве параметров все нужные атрибуты текущего объекта.\n",
        "\n",
        "Если мы сами хотим получить эту строку, можно самим вызвать метод, но не напрямую:\n",
        "```python\n",
        "alex.__repr__()\n",
        "```\n",
        "А через функцию `repr`, передавая ей объект как параметр:\n",
        "```python\n",
        "repr(alex)\n",
        "```"
      ]
    },
    {
      "cell_type": "code",
      "execution_count": null,
      "id": "5a4df615",
      "metadata": {
        "id": "5a4df615",
        "outputId": "aa06ad31-4eb1-4528-f89d-93f2a50b0093"
      },
      "outputs": [
        {
          "name": "stdout",
          "output_type": "stream",
          "text": [
            "Student('Александр', 19)\n"
          ]
        }
      ],
      "source": [
        "code = repr(alex)\n",
        "print(code)"
      ]
    },
    {
      "cell_type": "markdown",
      "id": "fce75d43",
      "metadata": {
        "id": "fce75d43"
      },
      "source": [
        "### Метод `__str__`\n",
        "Метод `__str__` будет вызываться, когда вызывается функция `str` от данного объекта. Нужно вернуть строку-описание объекта в виде, удобном для восприятия человеком. Здесь не нужно писать имя конструктора, а можно, например, просто вернуть строку с содержимым всех полей. Так вы даете указание Питону, как преобразовывать данный объект к типу `str`.\n",
        "\n",
        "Заметим, что функция `print` использует именно функцию `str` для вывода объекта на экран."
      ]
    },
    {
      "cell_type": "code",
      "execution_count": null,
      "id": "ed3a3133",
      "metadata": {
        "id": "ed3a3133",
        "outputId": "32022afa-e288-407a-f368-1a66210e77e3"
      },
      "outputs": [
        {
          "name": "stdout",
          "output_type": "stream",
          "text": [
            "Александр, 19\n",
            "Мария, 18\n"
          ]
        }
      ],
      "source": [
        "class Student:\n",
        "    def __init__(self, name, age):\n",
        "        self._name = name\n",
        "        self._age = age\n",
        "\n",
        "    def __str__(self):\n",
        "        return self._name + \", \" + str(self._age)\n",
        "    \n",
        "\n",
        "alex = Student(\"Александр\", 19)\n",
        "print(alex)\n",
        "maria = Student(\"Мария\", 18)\n",
        "print(maria)"
      ]
    },
    {
      "cell_type": "markdown",
      "id": "6984ef7d",
      "metadata": {
        "id": "6984ef7d"
      },
      "source": [
        "## Объект-коллекция\n",
        "\n",
        "В течение курса мы пользовались стандартными коллекциями: списком `list`, кортежем `tuple`, множеством `set` и другими.\n",
        "\n",
        "Предположим, что мы хотим сделать свою коллекцию `LoopedList` со следующими возможностями:\n",
        "1. Доступ к элементам по ключу на чтение и на запись.\n",
        "2. Поддержка функции `len()` для объекта коллекции.\n",
        "3. Слияние двух коллекций при помощи оператора `+`.\n",
        "\n",
        "Для доступа по индексу опишем в классе следующие методы:\n",
        "\n",
        "* `__getitem__(self, index)` – получение значения по `index`;\n",
        "* `__setitem__(self, index, value)` – запись значения `value` по `index`;\n",
        "* `__delitem__(self, index)` – удаление элемента по `index`."
      ]
    },
    {
      "cell_type": "code",
      "execution_count": null,
      "id": "b77ae2da",
      "metadata": {
        "id": "b77ae2da"
      },
      "outputs": [],
      "source": [
        "class LoopedList:\n",
        "    def __init__(self, items):\n",
        "        self._items = list(items)\n",
        "        \n",
        "    def __repr__(self):\n",
        "        return f\"LoopedList({self._items})\"\n",
        "    \n",
        "    def __str__(self):\n",
        "        return f\"-->{self._items}-->\"\n",
        "        \n",
        "    def __getitem__(self, index):\n",
        "        if not isinstance(index, int):\n",
        "            raise TypeError(\"Index should be integer number.\")\n",
        "        return self._items[index % len(self._items)]\n",
        "\n",
        "    def __setitem__(self, index, value):\n",
        "        if not isinstance(index, int):\n",
        "            raise TypeError(\"Index should be integer number.\")\n",
        "        self._items[index % len(self._items)] = value\n",
        "\n",
        "    def __delitem__(self, index):\n",
        "        if not isinstance(index, int):\n",
        "            raise TypeError(\"Index should be integer number.\")\n",
        "        del self._items[index % len(self._items)]\n",
        "\n",
        "    def __len__(self):\n",
        "        return len(self._items)\n",
        "    \n",
        "    def __add__(self, other):\n",
        "        if not isinstance(other, LoopedList):\n",
        "            raise TypeError(\"Only LoopedList can be added to LoopedList.\")\n",
        "        return LoopedList(self._items + other._items)\n",
        "    \n",
        "A = LoopedList([0, 1, 2, 3, 4])\n",
        "B = LoopedList([5, 6, 7, 8])"
      ]
    },
    {
      "cell_type": "markdown",
      "id": "6a3fedc6",
      "metadata": {
        "id": "6a3fedc6"
      },
      "source": [
        "Мы описали спец. функции `__str__` и `__repr__`, а значит сможем посмотреть на содержимое своей коллекции двумя способами:"
      ]
    },
    {
      "cell_type": "code",
      "execution_count": null,
      "id": "ff0c3818",
      "metadata": {
        "id": "ff0c3818",
        "outputId": "5a2c8636-bdd3-4a98-8b0a-94c466742315"
      },
      "outputs": [
        {
          "name": "stdout",
          "output_type": "stream",
          "text": [
            "-->[0, 1, 2, 3, 4]-->\tLoopedList([0, 1, 2, 3, 4])\n"
          ]
        }
      ],
      "source": [
        "print(A, repr(A), sep='\\t')"
      ]
    },
    {
      "cell_type": "markdown",
      "id": "1f97e20c",
      "metadata": {
        "id": "1f97e20c"
      },
      "source": [
        "Поскольку описан спец. метод `__len__`, то для объектов такого класса можно вызывать функцию `len`:"
      ]
    },
    {
      "cell_type": "code",
      "execution_count": null,
      "id": "4006165f",
      "metadata": {
        "id": "4006165f",
        "outputId": "3fb8a5ce-f869-498d-c2d4-3ffa4323d478"
      },
      "outputs": [
        {
          "data": {
            "text/plain": [
              "5"
            ]
          },
          "execution_count": 35,
          "metadata": {},
          "output_type": "execute_result"
        }
      ],
      "source": [
        "len(A)"
      ]
    },
    {
      "cell_type": "markdown",
      "id": "4d63d1b8",
      "metadata": {
        "id": "4d63d1b8"
      },
      "source": [
        "Благодаря `__getitem__` мы можем узнать значение по индексу:"
      ]
    },
    {
      "cell_type": "code",
      "execution_count": null,
      "id": "061415ea",
      "metadata": {
        "id": "061415ea",
        "outputId": "343c374a-d531-4502-a6c1-67b5d6a149cf"
      },
      "outputs": [
        {
          "data": {
            "text/plain": [
              "0"
            ]
          },
          "execution_count": 36,
          "metadata": {},
          "output_type": "execute_result"
        }
      ],
      "source": [
        "A[0]"
      ]
    },
    {
      "cell_type": "markdown",
      "id": "dbf83758",
      "metadata": {
        "id": "dbf83758"
      },
      "source": [
        "Благодаря `__setitem__` мы можем поменять значение элемента:"
      ]
    },
    {
      "cell_type": "code",
      "execution_count": null,
      "id": "9d38da51",
      "metadata": {
        "id": "9d38da51",
        "outputId": "309914e2-a22b-4ffa-d7e0-5409ca708052"
      },
      "outputs": [
        {
          "data": {
            "text/plain": [
              "LoopedList([10, 1, 2, 3, 4])"
            ]
          },
          "execution_count": 37,
          "metadata": {},
          "output_type": "execute_result"
        }
      ],
      "source": [
        "A[10] = 10\n",
        "A"
      ]
    },
    {
      "cell_type": "markdown",
      "id": "a91c74e0",
      "metadata": {
        "id": "a91c74e0"
      },
      "source": [
        "Мы также определили `__delitem__` для удаления элемента по индексу:"
      ]
    },
    {
      "cell_type": "code",
      "execution_count": null,
      "id": "fda7f329",
      "metadata": {
        "id": "fda7f329",
        "outputId": "ce981943-cae1-42d0-9f33-e819ecffaed3"
      },
      "outputs": [
        {
          "data": {
            "text/plain": [
              "LoopedList([1, 2, 3, 4])"
            ]
          },
          "execution_count": 38,
          "metadata": {},
          "output_type": "execute_result"
        }
      ],
      "source": [
        "del A[100]\n",
        "A"
      ]
    },
    {
      "cell_type": "markdown",
      "id": "47a3684d",
      "metadata": {
        "id": "47a3684d"
      },
      "source": [
        "Из-за метода `__add__` объекты `LoopedList` могут складываться друг с другом:"
      ]
    },
    {
      "cell_type": "code",
      "execution_count": null,
      "id": "11a9dab8",
      "metadata": {
        "id": "11a9dab8",
        "outputId": "fb6a0b5c-e2a1-495e-ad4b-380a9d8a7832"
      },
      "outputs": [
        {
          "data": {
            "text/plain": [
              "LoopedList([1, 2, 3, 4, 5, 6, 7, 8])"
            ]
          },
          "execution_count": 39,
          "metadata": {},
          "output_type": "execute_result"
        }
      ],
      "source": [
        "C = A + B\n",
        "C"
      ]
    },
    {
      "cell_type": "markdown",
      "id": "6181306d",
      "metadata": {
        "id": "6181306d"
      },
      "source": [
        "Благодаря магическим методам для объектов можно определить также операции вычитания, умножения, деления и многие другие. Смотрите полный список в справочнике."
      ]
    },
    {
      "cell_type": "markdown",
      "id": "c8aff557",
      "metadata": {
        "id": "c8aff557"
      },
      "source": [
        "## Итерируемые объекты\n",
        "\n",
        "Создадим объект с возможностью итерирования — арифметико-геометрическую прогрессию `AGProgression`.\n",
        "\n",
        "Для того, чтобы по ней успешно итерироваться, нам нужно сделать метод `__iter__`, а также описать класс итератора `AGIterator`, который будет возвращаться из этого метода. При этом сам итератор должен уметь возвращать свою копию в методе `__iter__`, а также определять метод `__next__` для вычисления следующего значения итерируемого объекта:"
      ]
    },
    {
      "cell_type": "code",
      "execution_count": null,
      "id": "0c1cb2fe",
      "metadata": {
        "id": "0c1cb2fe",
        "outputId": "42fbaee9-0a77-4fa4-f6cb-2afbef1f77ae"
      },
      "outputs": [
        {
          "name": "stdout",
          "output_type": "stream",
          "text": [
            "1\n",
            "3\n",
            "7\n",
            "15\n",
            "31\n",
            "63\n",
            "127\n",
            "255\n",
            "511\n"
          ]
        }
      ],
      "source": [
        "class AGIterator:\n",
        "    def __init__(self, agprogression):\n",
        "        self._agprogression = agprogression\n",
        "        self._next = self._agprogression._start\n",
        "        self._value = None\n",
        "\n",
        "    def __next__(self):\n",
        "        self._value = self._next\n",
        "        if self._value < self._agprogression._stop:\n",
        "            self._next = self._next * self._agprogression._a + self._agprogression._b\n",
        "            return self._value\n",
        "        else:\n",
        "            raise StopIteration()\n",
        "\n",
        "    def __iter__(self):\n",
        "        copy = AGIterator(self._agprogression)\n",
        "        copy._next = self._next\n",
        "        return copy\n",
        "\n",
        "\n",
        "class AGProgression:\n",
        "    def __init__(self, start, stop, a, b):\n",
        "        self._start = start\n",
        "        self._stop = stop        \n",
        "        if start <= 0:\n",
        "            raise ValueError(\"start should be positive\")\n",
        "        if a <= 1 or b < 0:\n",
        "            raise ValueError(\"a should be greater than 1 and b >= 0\")\n",
        "        self._a = a\n",
        "        self._b = b\n",
        "\n",
        "    def __iter__(self):\n",
        "        return AGIterator(self)\n",
        "\n",
        "for x in AGProgression(1, 1000, 2, 1):\n",
        "    print(x)"
      ]
    },
    {
      "cell_type": "markdown",
      "id": "2c75dee3",
      "metadata": {
        "id": "2c75dee3"
      },
      "source": [
        "Мы можем пользоваться не только циклом `for`, но и разворачивать значения в параметры функции или список переменных. Всё, что мы любим для обычных итерируемых объектов:"
      ]
    },
    {
      "cell_type": "code",
      "execution_count": null,
      "id": "f003f8d0",
      "metadata": {
        "id": "f003f8d0",
        "outputId": "622c3ddb-784e-4bcf-c9b2-5fca63937f54"
      },
      "outputs": [
        {
          "name": "stdout",
          "output_type": "stream",
          "text": [
            "5 17 53\n"
          ]
        }
      ],
      "source": [
        "print(*AGProgression(5, 100, 3, 2))"
      ]
    },
    {
      "cell_type": "code",
      "execution_count": null,
      "id": "494cafd3",
      "metadata": {
        "id": "494cafd3",
        "outputId": "dd9574e9-2a55-4ad9-b264-404f445c827c"
      },
      "outputs": [
        {
          "name": "stdout",
          "output_type": "stream",
          "text": [
            "5\n",
            "17\n",
            "53\n"
          ]
        }
      ],
      "source": [
        "a, b, c = AGProgression(5, 100, 3, 2)\n",
        "print(a)\n",
        "print(b)\n",
        "print(c)"
      ]
    },
    {
      "cell_type": "markdown",
      "id": "5e717a0a",
      "metadata": {
        "id": "5e717a0a"
      },
      "source": [
        "Класс-итератор можно не создавать, если мы определим метод `__getitem__`."
      ]
    },
    {
      "cell_type": "code",
      "execution_count": null,
      "id": "0a3abf93",
      "metadata": {
        "id": "0a3abf93",
        "outputId": "1bfa081c-e981-41ad-e09c-2ed2f1ba9165"
      },
      "outputs": [
        {
          "name": "stdout",
          "output_type": "stream",
          "text": [
            "5 17 53\n"
          ]
        }
      ],
      "source": [
        "class AGProgression:\n",
        "    def __init__(self, start, stop, a, b):\n",
        "        if stop is None:\n",
        "            self._start = 1\n",
        "            self._stop = start\n",
        "        else:\n",
        "            self._start = start\n",
        "            self._stop = stop        \n",
        "        if start <= 0:\n",
        "            raise ValueError(\"start should be positive\")\n",
        "        if a <= 1 or b < 0:\n",
        "            raise ValueError(\"a should be greater than 1 and b >= 0\")\n",
        "        self._a = a\n",
        "        self._b = b\n",
        "\n",
        "    def __getitem__(self, index):\n",
        "        value = self._start\n",
        "        for i in range(index):\n",
        "            value = value * self._a + self._b\n",
        "        if value >= self._stop:\n",
        "            raise IndexError(\"index is out of the progression\")\n",
        "        return value\n",
        "\n",
        "# догадайтесь почему это не так эффективно по времени, как прошлый \"громоздкий\" вариант?\n",
        "print(*AGProgression(5, 100, 3, 2))"
      ]
    },
    {
      "cell_type": "markdown",
      "id": "27b808eb",
      "metadata": {
        "id": "27b808eb"
      },
      "source": [
        "## Агрегация и наследование классов\n",
        "Начнём с простого. Если вам нужен объект с поведением, расширяющим возможности другого объекта, у вас есть два варианта:\n",
        "1. Агрегация\n",
        "2. Наследование\n",
        "\n",
        "В первом случае это \"поглощение\" исходного объекта вашим объектом — как древняя прокариотическая клетка \"проглотила\" предков митохондрии. Естественно, любые возможности поглощённого объекта могут быть доступны окружающему коду _только_ сквозь методы объекта-агрегатора.\n",
        "\n",
        "```python\n",
        "class Mitochondrion:\n",
        "    def charge_ATP(self, oxygen):\n",
        "        return \"energy in form of ATP\"\n",
        "    \n",
        "class MuscleCell(Base):\n",
        "    def __init__(self):\n",
        "        self._organelle = Mitochondrion()\n",
        "    \n",
        "    def produce_tissue(self, oxygen):\n",
        "        ATP = self._organelle.charge_ATP(oxygen)\n",
        "        return \"Tissue done with \" + ATP\n",
        "```\n",
        "\n",
        "*Агрегация является ясным и предсказуемым по последствиям архитектурным приёмом*."
      ]
    },
    {
      "cell_type": "markdown",
      "id": "c71a8cda",
      "metadata": {
        "id": "c71a8cda"
      },
      "source": [
        "Во втором случае вы описываете класс-потомок, объекты которого по логике поведения должны полностью воспроизводить объекты класса-предка. Это называется **подстановочный принцип Барбары Лисков: объект-потомок должен будет незаметно замещать объект предка во всех схожих ситуациях, не требуя для своего использования никаких дополнительных \"пререквизитов\"**. Это правило не так легко соблюсти, как может показаться. Автоматического соблюдения этого принципа не получается добиться даже в языках со строгими проверками типов. В любом случае *нужно правильно продумывать иерархию объектов и не применять иерархию, когда это не требуется*.\n",
        "\n",
        "Синтаксически, для описания класса как потомка вам нужно просто указать в скобках его предка:"
      ]
    },
    {
      "cell_type": "code",
      "execution_count": null,
      "id": "bf3ce765",
      "metadata": {
        "id": "bf3ce765",
        "outputId": "814706f4-70f7-4e6d-c2e1-58f43d1366da"
      },
      "outputs": [
        {
          "name": "stdout",
          "output_type": "stream",
          "text": [
            "Base does it!\n",
            "Derived does it!\n"
          ]
        }
      ],
      "source": [
        "class Base:\n",
        "    def do(self):\n",
        "        print(\"Base does it!\")\n",
        "    \n",
        "class Derived(Base):\n",
        "    def do(self):\n",
        "        print(\"Derived does it!\")    \n",
        "\n",
        "b = Base()\n",
        "d = Derived()\n",
        "b.do()\n",
        "d.do()"
      ]
    },
    {
      "cell_type": "markdown",
      "id": "e5dc806f",
      "metadata": {
        "id": "e5dc806f"
      },
      "source": [
        "### Вызов конструктора предка\n",
        "В некоторых ООП языках программирования атрибуты класса-предка появляются у экземпляра класса-потомка автоматически. Но в языке Python чтобы что-то появилось, оно должно быть явно вычислено. *Поскольку атрибуты у объекта появляются в конструкторе, то для соблюдения принципа наследования в конструкторе класса-потомка должен быть явно вызван конструктор класса-предка.*\n",
        "\n",
        "При вызове конструктора предка нужно указать все параметры, кроме `self`.\n",
        "\n",
        "```python\n",
        "super().__init__(па, ра, мет, ры)\n",
        "```\n",
        "\n",
        "Для демонстрации наследования сделаем два класса: `ArgumentsClosure` — замыкание функции с обычными аргументами и `KeywordArgumentsClosure` — замыкание функции и с обычными, и с ключевыми аргументами."
      ]
    },
    {
      "cell_type": "code",
      "execution_count": null,
      "id": "44b32ee8",
      "metadata": {
        "id": "44b32ee8"
      },
      "outputs": [],
      "source": [
        "class ArgumentsClosure:\n",
        "    def __init__(self, function, args):\n",
        "        self._function = function\n",
        "        self._args = list(args)\n",
        "    \n",
        "    def __call__(self, *args):\n",
        "        return self._function(*args, *self._args)\n",
        "\n",
        "\n",
        "class KeywordArgumentsClosure(ArgumentsClosure):\n",
        "    def __init__(self, function, args, kwargs=None):\n",
        "        # Обратите внимание на следующую строчку:\n",
        "        super().__init__(function, args)\n",
        "        self._kwargs = kwargs if kwargs is not None else {}\n",
        "    \n",
        "    def __call__(self, *args, **kwargs):\n",
        "        return self._function(*args, *self._args,\n",
        "                              **kwargs, **self._kwargs)"
      ]
    },
    {
      "cell_type": "markdown",
      "id": "33796257",
      "metadata": {
        "id": "33796257"
      },
      "source": [
        "Для демонстрации работы классов изготовим функцию `my_print`, которая печатает аргументы при помощи обычной функции `print` с некоторым числом повторений:"
      ]
    },
    {
      "cell_type": "code",
      "execution_count": null,
      "id": "7da8aea5",
      "metadata": {
        "id": "7da8aea5",
        "outputId": "38b14341-f007-4954-b4dc-104e92db4834"
      },
      "outputs": [
        {
          "name": "stdout",
          "output_type": "stream",
          "text": [
            "Hello World\tHello World\tHello World\n"
          ]
        }
      ],
      "source": [
        "def my_print(*args, repeat=1, sep=' ', repeat_sep=', ', end='\\n'):\n",
        "    for step in range(repeat-1):\n",
        "        print(*args, sep=sep, end=repeat_sep)\n",
        "    print(*args, sep=sep, end=end)\n",
        "\n",
        "my_print(\"Hello\", \"World\", repeat=3, repeat_sep='\\t')"
      ]
    },
    {
      "cell_type": "code",
      "execution_count": null,
      "id": "85273ec9",
      "metadata": {
        "id": "85273ec9",
        "outputId": "9a47ab3b-fc59-4546-fe76-ed9e0d8b41cd"
      },
      "outputs": [
        {
          "name": "stdout",
          "output_type": "stream",
          "text": [
            "Я хорошо учился в школе. Не так ли?\n"
          ]
        }
      ],
      "source": [
        "print_isnt1 = ArgumentsClosure(my_print, [\"Не так ли?\"])\n",
        "print_isnt1(\"Я хорошо учился в школе.\")"
      ]
    },
    {
      "cell_type": "code",
      "execution_count": null,
      "id": "4575b737",
      "metadata": {
        "id": "4575b737",
        "outputId": "0c47fc7c-6d31-401d-9886-a9832a88753e"
      },
      "outputs": [
        {
          "ename": "NameError",
          "evalue": "name 'print_isnt' is not defined",
          "output_type": "error",
          "traceback": [
            "\u001b[1;31m---------------------------------------------------------------------------\u001b[0m",
            "\u001b[1;31mNameError\u001b[0m                                 Traceback (most recent call last)",
            "Cell \u001b[1;32mIn[48], line 1\u001b[0m\n\u001b[1;32m----> 1\u001b[0m \u001b[38;5;28mtype\u001b[39m(\u001b[43mprint_isnt\u001b[49m)\n",
            "\u001b[1;31mNameError\u001b[0m: name 'print_isnt' is not defined"
          ]
        }
      ],
      "source": [
        "type(print_isnt)"
      ]
    },
    {
      "cell_type": "markdown",
      "id": "ef5a9de7",
      "metadata": {
        "id": "ef5a9de7"
      },
      "source": [
        "Наше наследование сделано корректно — убедимся в этом:"
      ]
    },
    {
      "cell_type": "code",
      "execution_count": null,
      "id": "54dfdd86",
      "metadata": {
        "id": "54dfdd86",
        "outputId": "655db440-2ee8-4f3f-c2c8-6d036f4206f5"
      },
      "outputs": [
        {
          "name": "stdout",
          "output_type": "stream",
          "text": [
            "Я хорошо учился в школе. Не так ли?\n"
          ]
        }
      ],
      "source": [
        "print_isnt2 = KeywordArgumentsClosure(my_print, [\"Не так ли?\"])\n",
        "print_isnt2(\"Я хорошо учился в школе.\")"
      ]
    },
    {
      "cell_type": "markdown",
      "id": "1be9fb59",
      "metadata": {
        "id": "1be9fb59"
      },
      "source": [
        "А теперь воспользуемся расширенной функциональностью подкласса:"
      ]
    },
    {
      "cell_type": "code",
      "execution_count": null,
      "id": "6228a757",
      "metadata": {
        "id": "6228a757",
        "outputId": "14dfd9a8-4d00-49e7-b72f-f0c4e4d98106"
      },
      "outputs": [
        {
          "name": "stdout",
          "output_type": "stream",
          "text": [
            "Я хорошо учился в школе. Не так ли?... Я хорошо учился в школе. Не так ли?\n"
          ]
        }
      ],
      "source": [
        "print_isnt3 = KeywordArgumentsClosure(my_print, [\"Не так ли?\"], {\"repeat\": 2, \"repeat_sep\": '... '})\n",
        "print_isnt3(\"Я хорошо учился в школе.\")"
      ]
    },
    {
      "cell_type": "markdown",
      "id": "0217bd48",
      "metadata": {
        "id": "0217bd48"
      },
      "source": [
        "На этом наше ознакомление с ООП закончено.\n",
        "\n",
        "Однако, объектно-ориентированное программирование намного шире, чем мы увидели сегодня. В него входят также принципы S.O.L.I.D., а также методики ООП-проектирования программ, такие как UML и паттерны проектирования."
      ]
    },
    {
      "cell_type": "code",
      "execution_count": null,
      "id": "d2a93cca",
      "metadata": {
        "id": "d2a93cca"
      },
      "outputs": [],
      "source": []
    }
  ],
  "metadata": {
    "kernelspec": {
      "display_name": "Python 3 (ipykernel)",
      "language": "python",
      "name": "python3"
    },
    "language_info": {
      "codemirror_mode": {
        "name": "ipython",
        "version": 3
      },
      "file_extension": ".py",
      "mimetype": "text/x-python",
      "name": "python",
      "nbconvert_exporter": "python",
      "pygments_lexer": "ipython3",
      "version": "3.11.1"
    },
    "colab": {
      "provenance": [],
      "include_colab_link": true
    }
  },
  "nbformat": 4,
  "nbformat_minor": 5
}