{
  "nbformat": 4,
  "nbformat_minor": 0,
  "metadata": {
    "colab": {
      "provenance": [],
      "authorship_tag": "ABX9TyMTWRXZEcNiTpz7HoyDu8pN",
      "include_colab_link": true
    },
    "kernelspec": {
      "name": "python3",
      "display_name": "Python 3"
    },
    "language_info": {
      "name": "python"
    }
  },
  "cells": [
    {
      "cell_type": "markdown",
      "metadata": {
        "id": "view-in-github",
        "colab_type": "text"
      },
      "source": [
        "<a href=\"https://colab.research.google.com/github/Zabaluna/PythonMGU/blob/main/Map%2Czip%2Cenumerate.ipynb\" target=\"_parent\"><img src=\"https://colab.research.google.com/assets/colab-badge.svg\" alt=\"Open In Colab\"/></a>"
      ]
    },
    {
      "cell_type": "markdown",
      "source": [
        "# Оператор lambda\n",
        "Помимо стандартного определения функции, которое состоит из заголовка функции с ключевым словом def и блока инструкций, в Python имеется возможность создавать короткие однострочные функции с использованием оператора lambda, которые называются лямбда-функциями. Вот общий формат определения лямбда-функции:\n",
        "\n",
        "# lambda список_аргументов: выражение\n",
        "\n",
        "В данном формате список_аргументов – это список аргументов, отделенных запятой, и выражение – значение либо любая порция программного кода, которая в результате дает значение. Например, следующие два определения функций эквивалентны:"
      ],
      "metadata": {
        "id": "Dr_IRPoO5Kw5"
      }
    },
    {
      "cell_type": "code",
      "execution_count": null,
      "metadata": {
        "id": "Ep7Ve-hP47Af"
      },
      "outputs": [],
      "source": [
        "def standard_function(x, y):\n",
        "    return x + y\n"
      ]
    },
    {
      "cell_type": "code",
      "source": [
        "\n",
        "lambda x, y: x + y"
      ],
      "metadata": {
        "colab": {
          "base_uri": "https://localhost:8080/"
        },
        "id": "3P2t1NaT5ZDS",
        "outputId": "56499fbe-88ab-4951-c735-66c5a852d9be"
      },
      "execution_count": null,
      "outputs": [
        {
          "output_type": "execute_result",
          "data": {
            "text/plain": [
              "<function __main__.<lambda>(x, y)>"
            ]
          },
          "metadata": {},
          "execution_count": 2
        }
      ]
    },
    {
      "cell_type": "code",
      "source": [
        "(lambda x, y: x+y)(5, 7)"
      ],
      "metadata": {
        "colab": {
          "base_uri": "https://localhost:8080/"
        },
        "id": "UcHxVyDX5DAD",
        "outputId": "e17c2884-ff84-4681-d804-2e0ba86d981c"
      },
      "execution_count": null,
      "outputs": [
        {
          "output_type": "execute_result",
          "data": {
            "text/plain": [
              "12"
            ]
          },
          "metadata": {},
          "execution_count": 3
        }
      ]
    },
    {
      "cell_type": "code",
      "source": [
        "lambda_function = lambda x, y: x + y\n",
        "lambda_function(5,7)\n"
      ],
      "metadata": {
        "colab": {
          "base_uri": "https://localhost:8080/"
        },
        "id": "qfIc3o-U5lDS",
        "outputId": "dfadbce9-174f-4970-8d52-bf1a98888b6f"
      },
      "execution_count": null,
      "outputs": [
        {
          "output_type": "execute_result",
          "data": {
            "text/plain": [
              "12"
            ]
          },
          "metadata": {},
          "execution_count": 6
        }
      ]
    },
    {
      "cell_type": "code",
      "source": [
        "dic = {'функция1': lambda_function}\n",
        "dic['функция1'](7,8)"
      ],
      "metadata": {
        "colab": {
          "base_uri": "https://localhost:8080/"
        },
        "id": "fdmBxdBk55zd",
        "outputId": "d51b61ac-1e92-4fba-9980-effbd801674a"
      },
      "execution_count": null,
      "outputs": [
        {
          "output_type": "execute_result",
          "data": {
            "text/plain": [
              "15"
            ]
          },
          "metadata": {},
          "execution_count": 5
        }
      ]
    },
    {
      "cell_type": "markdown",
      "source": [
        "Cоздается словарь, в котором в качестве значения задана ссылка на эту функцию, и затем, обратившись к этому значению по ключу, эта функция применяется в третий раз.\n",
        "\n",
        "Нередко во время написания программы появляется необходимость преобразовать некую последовательность в другую. Для этих целей в Python имеется встроенная функция map."
      ],
      "metadata": {
        "id": "1TfnOOd96Ch7"
      }
    },
    {
      "cell_type": "markdown",
      "source": [
        "# Функция map\n",
        "При написании программы очень часто возникает задача, которая состоит в том, чтобы применить специальную функцию для всех элементов в последовательности. В функциональном программировании она называется отображением от англ. map.\n",
        "\n",
        "Встроенная в Python функция map – это функция более высокого порядка, которая предназначена для выполнения именно такой задачи. Она позволяет обрабатывать одну или несколько последовательностей с использованием заданной функции. Вот общий формат функции map:\n",
        "\n",
        "# map(функция, последовательности)\n",
        "\n",
        "В данном формате функция – это ссылка на стандартную функцию либо лямбда-функция, и последовательности – это одна или несколько отделенных запятыми итерируемых последовательностей, т.е. списки, кортежи, диапазоны или строковые данные."
      ],
      "metadata": {
        "id": "1u1XB0FX6LTj"
      }
    },
    {
      "cell_type": "code",
      "source": [
        "seq = (1, 2, 3, 4, 5, 6, 7, 8, 9)\n",
        "seq2 = (5, 6, 7, 8, 9, 0, 3, 2, 1)\n",
        "result = map(lambda_function, seq, seq2)\n",
        "result\n"
      ],
      "metadata": {
        "colab": {
          "base_uri": "https://localhost:8080/"
        },
        "id": "Q8mvCDmG6LGa",
        "outputId": "a7d58739-114d-44fd-ded4-d4e29264ef4c"
      },
      "execution_count": null,
      "outputs": [
        {
          "output_type": "execute_result",
          "data": {
            "text/plain": [
              "<map at 0x7f05f61dce20>"
            ]
          },
          "metadata": {},
          "execution_count": 8
        }
      ]
    },
    {
      "cell_type": "code",
      "source": [
        "list(result)"
      ],
      "metadata": {
        "colab": {
          "base_uri": "https://localhost:8080/"
        },
        "id": "Y8hpALQH6hKs",
        "outputId": "bd3ae762-68ee-4bd2-e216-c380c637e358"
      },
      "execution_count": null,
      "outputs": [
        {
          "output_type": "execute_result",
          "data": {
            "text/plain": [
              "[6, 8, 10, 12, 14, 6, 10, 10, 10]"
            ]
          },
          "metadata": {},
          "execution_count": 9
        }
      ]
    },
    {
      "cell_type": "markdown",
      "source": [
        "# Функция filter\n",
        "Функции более высокого порядка часто используются для фильтрации данных. Языки функционального программирования предлагают универсальную функцию filter, получающую набор элементов для фильтрации, и фильтрующую функцию, которая определяет, нужно ли исключить конкретный элемент из последовательности или нет. Встроенная в Python функция filter выполняет именно такую задачу. В результирующем списке будут только те значения, для которых значение функции для элемента последовательности истинно. Вот общий формат функции filter:\n",
        "\n",
        "# filter(предикативная_функция, последовательность)\n",
        "\n",
        "В данном формате предикативная_функция – это ссылка на стандартную функцию либо лямбда-функция, которая возвращает истину либо ложь, и последовательность – это итерируемая последовательность, т.е. список, кортеж, диапазон или строковые данные.\n",
        "\n",
        "Например, ниже приведена однострочная функция is_even для определения четности числа:"
      ],
      "metadata": {
        "id": "O5bA2DcB6uMS"
      }
    },
    {
      "cell_type": "code",
      "source": [
        "is_even = lambda x: x % 2 == 0\n"
      ],
      "metadata": {
        "id": "o3gg6tgj65f2"
      },
      "execution_count": null,
      "outputs": []
    },
    {
      "cell_type": "code",
      "source": [
        "seq = (1, 2, 3, 4, 5, 6, 7, 8, 9)\n",
        "filtered = filter(is_even, seq)\n",
        "list(filtered)"
      ],
      "metadata": {
        "colab": {
          "base_uri": "https://localhost:8080/"
        },
        "id": "ipFPh0ja65wD",
        "outputId": "9d920fb9-c9e2-476b-904a-70b6de5ae32a"
      },
      "execution_count": null,
      "outputs": [
        {
          "output_type": "execute_result",
          "data": {
            "text/plain": [
              "[2, 4, 6, 8]"
            ]
          },
          "metadata": {},
          "execution_count": 11
        }
      ]
    },
    {
      "cell_type": "code",
      "source": [
        "filtered = iter(filter(lambda x: x % 2 == 0, seq))\n",
        "list(filtered)"
      ],
      "metadata": {
        "colab": {
          "base_uri": "https://localhost:8080/"
        },
        "id": "SexdJsNR7F7E",
        "outputId": "092575f9-68ec-4bda-e7ad-e81b7f3f6e30"
      },
      "execution_count": null,
      "outputs": [
        {
          "output_type": "execute_result",
          "data": {
            "text/plain": [
              "[2, 4, 6, 8]"
            ]
          },
          "metadata": {},
          "execution_count": 12
        }
      ]
    },
    {
      "cell_type": "markdown",
      "source": [
        "# Функция zip\n",
        "Встроенная функция zip объединяет отдельные элементы из каждой последовательности в кортежи, т.е. она возвращает итерируемую последовательность, состоящую из кортежей. Вот общий формат функции zip:\n",
        "\n",
        "# zip(последовательность, последовательность, ...)\n",
        "\n",
        "В данном формате последовательность – это итерируемая последовательность, т.е. список, кортеж, диапазон или строковые данные. Функция zip возвращает ленивый объект-последовательность, который нужно вычислить, чтобы увидеть результат. Приведенный ниже интерактивный сеанс это демонстрирует:"
      ],
      "metadata": {
        "id": "-Vp1TbgL7ZI8"
      }
    },
    {
      "cell_type": "code",
      "source": [
        "a = \"Алексей Руслан Тимур\".split()\n",
        "b = \"Алёна Рита Тая\".split()\n",
        "for x, y in zip(a, b):\n",
        "    print(x, '+', y, '= \\u2665')"
      ],
      "metadata": {
        "colab": {
          "base_uri": "https://localhost:8080/"
        },
        "id": "m5zCUGYChOkl",
        "outputId": "fdc64654-d412-442b-e673-07debc407897"
      },
      "execution_count": null,
      "outputs": [
        {
          "output_type": "stream",
          "name": "stdout",
          "text": [
            "Алексей + Алёна = ♥\n",
            "Руслан + Рита = ♥\n",
            "Тимур + Тая = ♥\n"
          ]
        }
      ]
    },
    {
      "cell_type": "code",
      "source": [
        "x = 'абв'\n",
        "y = 'эюя'\n",
        "zipped = zip(x, y)\n",
        "list(zipped)\n"
      ],
      "metadata": {
        "colab": {
          "base_uri": "https://localhost:8080/"
        },
        "id": "96h8vKlK7bSM",
        "outputId": "d884f40a-1b62-4db6-99b5-1c7acaaf5719"
      },
      "execution_count": null,
      "outputs": [
        {
          "output_type": "execute_result",
          "data": {
            "text/plain": [
              "[('а', 'э'), ('б', 'ю'), ('в', 'я')]"
            ]
          },
          "metadata": {},
          "execution_count": 13
        }
      ]
    },
    {
      "cell_type": "code",
      "source": [
        "x2, y2 = zip(*zip(x, y))\n",
        "x2\n"
      ],
      "metadata": {
        "colab": {
          "base_uri": "https://localhost:8080/"
        },
        "id": "bKeEcOtx7ntM",
        "outputId": "9d499633-5081-4ac6-c3d1-2a434a7fdb28"
      },
      "execution_count": null,
      "outputs": [
        {
          "output_type": "execute_result",
          "data": {
            "text/plain": [
              "('а', 'б', 'в')"
            ]
          },
          "metadata": {},
          "execution_count": 15
        }
      ]
    },
    {
      "cell_type": "code",
      "source": [
        "y2"
      ],
      "metadata": {
        "colab": {
          "base_uri": "https://localhost:8080/"
        },
        "id": "5RgivkQ37tlM",
        "outputId": "e12efca5-6b93-4f57-a7b5-1a76a92a21f1"
      },
      "execution_count": null,
      "outputs": [
        {
          "output_type": "execute_result",
          "data": {
            "text/plain": [
              "('э', 'ю', 'я')"
            ]
          },
          "metadata": {},
          "execution_count": 16
        }
      ]
    },
    {
      "cell_type": "code",
      "source": [
        "x == ''.join(x2) and y == ''.join(y2)"
      ],
      "metadata": {
        "colab": {
          "base_uri": "https://localhost:8080/"
        },
        "id": "Jk10K0yA7txs",
        "outputId": "4567aac7-7af5-4400-fb41-6f8f285cd72f"
      },
      "execution_count": null,
      "outputs": [
        {
          "output_type": "execute_result",
          "data": {
            "text/plain": [
              "True"
            ]
          },
          "metadata": {},
          "execution_count": 17
        }
      ]
    },
    {
      "cell_type": "markdown",
      "source": [
        "# Функция enumerate\n",
        "Встроенная функция enumerate возвращает индекс элемента и сам элемент последовательности в качестве кортежа. Вот общий формат функции enumerate:\n",
        "\n",
        "# enumerate(последовательность)\n",
        "\n",
        "В данном формате последовательность – это итерируемая последовательность, т.е. список, кортеж, диапазон или строковые данные. Функция enumerate возвращает ленивый объект-последовательность, который нужно вычислить, чтобы увидеть результат.\n",
        "\n",
        "Например, в приведенном ниже интерактивном сеансе показано применение этой функции к списку букв. В результате ее выполнения будет получена ленивая последовательность со списком кортежей, где каждый кортеж представляет собой индекс и значение буквы."
      ],
      "metadata": {
        "id": "eOxO5zNq75Dk"
      }
    },
    {
      "cell_type": "code",
      "source": [
        "lazy = enumerate(['а','б','в'])\n",
        "list(lazy)\n"
      ],
      "metadata": {
        "colab": {
          "base_uri": "https://localhost:8080/"
        },
        "id": "AkdA6Ozr79R1",
        "outputId": "289688b1-65d7-45cb-d9a5-692a6386c535"
      },
      "execution_count": null,
      "outputs": [
        {
          "output_type": "execute_result",
          "data": {
            "text/plain": [
              "[(0, 'а'), (1, 'б'), (2, 'в')]"
            ]
          },
          "metadata": {},
          "execution_count": 18
        }
      ]
    },
    {
      "cell_type": "code",
      "source": [
        "convert = lambda tup: tup[1].upper() + str(tup[0])\n",
        "lazy = map(convert, enumerate(['а','б','в']))\n",
        "list(lazy)"
      ],
      "metadata": {
        "colab": {
          "base_uri": "https://localhost:8080/"
        },
        "id": "p8wrlrug8DEs",
        "outputId": "59553bca-d865-483c-cebc-8e39cda576eb"
      },
      "execution_count": null,
      "outputs": [
        {
          "output_type": "execute_result",
          "data": {
            "text/plain": [
              "['А0', 'Б1', 'В2']"
            ]
          },
          "metadata": {},
          "execution_count": 19
        }
      ]
    },
    {
      "cell_type": "code",
      "source": [
        "for number, student in enumerate([\"Маша\", \"Вася\", \"Петя\", \"Рома\", \"Макар\"]):\n",
        "    print(number, student)"
      ],
      "metadata": {
        "colab": {
          "base_uri": "https://localhost:8080/"
        },
        "id": "S5wpfzHjiM1W",
        "outputId": "c44ecf92-30a5-4168-8028-a7b1a510f998"
      },
      "execution_count": null,
      "outputs": [
        {
          "output_type": "stream",
          "name": "stdout",
          "text": [
            "0 Маша\n",
            "1 Вася\n",
            "2 Петя\n",
            "3 Рома\n",
            "4 Макар\n"
          ]
        }
      ]
    },
    {
      "cell_type": "code",
      "source": [
        "print(*enumerate(\"Нумерация\"))"
      ],
      "metadata": {
        "id": "5X3L7OndiS18",
        "outputId": "cba03cc9-ed26-4dec-ec63-49891cdcd936",
        "colab": {
          "base_uri": "https://localhost:8080/"
        }
      },
      "execution_count": null,
      "outputs": [
        {
          "output_type": "stream",
          "name": "stdout",
          "text": [
            "(0, 'Н') (1, 'у') (2, 'м') (3, 'е') (4, 'р') (5, 'а') (6, 'ц') (7, 'и') (8, 'я')\n"
          ]
        }
      ]
    },
    {
      "cell_type": "code",
      "source": [
        "print(*enumerate(\"Нумерация\", 1))"
      ],
      "metadata": {
        "id": "tKAuKpiqiVJl",
        "outputId": "63e4778e-4485-44f9-f2aa-9354efaf1dd3",
        "colab": {
          "base_uri": "https://localhost:8080/"
        }
      },
      "execution_count": null,
      "outputs": [
        {
          "output_type": "stream",
          "name": "stdout",
          "text": [
            "(1, 'Н') (2, 'у') (3, 'м') (4, 'е') (5, 'р') (6, 'а') (7, 'ц') (8, 'и') (9, 'я')\n"
          ]
        }
      ]
    },
    {
      "cell_type": "markdown",
      "source": [],
      "metadata": {
        "id": "NTx0CTKA8rxe"
      }
    },
    {
      "cell_type": "markdown",
      "source": [
        "Функция convert в строке 1 переводит строковое значение второго элемента кортежа в верхний регистр и присоединяет к нему преобразованное в строковый тип значение первого элемента. Здесь tup – это кортеж, в котором tup[0] – это индекс элемента, и tup[1] – строковое значение элемента."
      ],
      "metadata": {
        "id": "SeoHUK7t8Wl2"
      }
    },
    {
      "cell_type": "markdown",
      "source": [
        "# Включение в последовательность\n",
        "Операции отображения и фильтрации встречаются так часто, что во многих языках программирования предлагаются способы написания этих выражений в более простых формах. Например, в языке Python возвести список чисел в квадрат можно следующим образом:\n",
        "\n",
        "# squared_numbers = [x*x for x in numbers]\n",
        "Python поддерживает концепцию под названием «включение в последовательность» (от англ. comprehension, в информатике эта операция так же называется описанием последовательности), которая суть изящный способ преобразования одной последовательности в другую. Во время этого процесса элементы могут быть условно включены и преобразованы заданной функцией. Вот один из вариантов общего формата операции включения в список:\n",
        "\n",
        "# [выражение for переменная in список if выражение2]\n",
        "\n",
        "В данном общем формате выражение – это выражение или функция с участием переменной, которые возвращают значение, переменная – это элемент последовательности, список – это обрабатываемый список, и выражение2 – это логическое выражение или предикативная функция с участием переменной. Чтобы все стало понятно, приведем простой пример возведения список в квадрат без условия:"
      ],
      "metadata": {
        "id": "Mr-VrU4E8pl9"
      }
    },
    {
      "cell_type": "code",
      "source": [
        "numbers = [1, 2, 3, 4, 5]\n",
        "squared_numbers = [x*x for x in numbers]\n",
        "squared_numbers"
      ],
      "metadata": {
        "colab": {
          "base_uri": "https://localhost:8080/"
        },
        "id": "kIWzypG98tz0",
        "outputId": "0413cdd1-c789-4510-8f49-518ff30ae121"
      },
      "execution_count": null,
      "outputs": [
        {
          "output_type": "execute_result",
          "data": {
            "text/plain": [
              "[1, 4, 9, 16, 25]"
            ]
          },
          "metadata": {},
          "execution_count": 20
        }
      ]
    },
    {
      "cell_type": "code",
      "source": [
        "squared_numbers = []\n",
        "for x in numbers:\n",
        "     squared_numbers.append(x*x)\n",
        "squared_numbers"
      ],
      "metadata": {
        "colab": {
          "base_uri": "https://localhost:8080/"
        },
        "id": "aOruPRoP81-s",
        "outputId": "5b8bdf03-1d11-4d1d-d12a-36b2be59bde7"
      },
      "execution_count": null,
      "outputs": [
        {
          "output_type": "execute_result",
          "data": {
            "text/plain": [
              "[1, 4, 9, 16, 25]"
            ]
          },
          "metadata": {},
          "execution_count": 21
        }
      ]
    },
    {
      "cell_type": "markdown",
      "source": [
        "# Таблица 1. Формы описания интенсионала\n",
        "\n",
        "[x*x for x in numbers]\n",
        "\n",
        "Описание списка\n",
        "\n",
        "{x:x*x for x in numbers}\n",
        "\n",
        "Описание словаря\n",
        "\n",
        "{x*x for x in numbers}\n",
        "\n",
        "set(x*x for x in numbers)\n",
        "\n",
        "Описание множества\n",
        "\n",
        "(x*x for x in numbers)\n",
        "\n",
        "Описание последовательности. Такая форма записи создает генератор последовательности. Генератор – это объект, который можно последовательно обойти (обычно при помощи инструкции for), но чьи значения предоставляются только тогда, когда они требуются, используя ленивое вычисление."
      ],
      "metadata": {
        "id": "VPjN_U4z9N8v"
      }
    },
    {
      "cell_type": "markdown",
      "source": [
        "Примеры из разделов о функциях map и filter легко можно переписать с использованием включения в последовательность. Например, в строке 3 приведенного ниже интерактивного сеанса вместо функции map применена операция включения в список:"
      ],
      "metadata": {
        "id": "f-8lRqNt91se"
      }
    },
    {
      "cell_type": "code",
      "source": [
        "seq = (1, 2, 3, 4, 5, 6, 7, 8, 9)\n",
        "seq2 = (5, 6, 7, 8, 9, 0, 3, 2, 1)\n",
        "result = [x + y for x, y in zip(seq, seq2)]\n",
        "result"
      ],
      "metadata": {
        "colab": {
          "base_uri": "https://localhost:8080/"
        },
        "id": "m2vw7FCP9nvf",
        "outputId": "ea44c8ee-9bd4-4798-b3f1-ca0a1ee20800"
      },
      "execution_count": null,
      "outputs": [
        {
          "output_type": "execute_result",
          "data": {
            "text/plain": [
              "[6, 8, 10, 12, 14, 6, 10, 10, 10]"
            ]
          },
          "metadata": {},
          "execution_count": 22
        }
      ]
    },
    {
      "cell_type": "code",
      "source": [
        "is_even = lambda x: x % 2 == 0\n",
        "result = [x for x in seq if is_even(x)]\n",
        "result"
      ],
      "metadata": {
        "colab": {
          "base_uri": "https://localhost:8080/"
        },
        "id": "PQwldnhp-GLP",
        "outputId": "6e809a58-0abb-45b1-8895-73f146ebfdac"
      },
      "execution_count": null,
      "outputs": [
        {
          "output_type": "execute_result",
          "data": {
            "text/plain": [
              "[2, 4, 6, 8]"
            ]
          },
          "metadata": {},
          "execution_count": 24
        }
      ]
    }
  ]
}